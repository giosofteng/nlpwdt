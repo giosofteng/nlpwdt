{
 "cells": [
  {
   "cell_type": "markdown",
   "id": "e5103422-5c20-4728-883c-808d49abe651",
   "metadata": {},
   "source": [
    "In this notebook, I will be attempting the Natural Language Processing with Disaster Tweets Kaggle competition (https://www.kaggle.com/c/nlp-getting-started). In it, we have to classify tweets based on whether or not they correspond to an actual disaster. The project will be available at https://github.com/giosofteng/nlpwdt .\n",
    "\n",
    "Let us begin by importing and inspecting the relevant data:"
   ]
  },
  {
   "cell_type": "code",
   "execution_count": 1,
   "id": "c88c40ee-9aea-4618-a54f-10f7082bc554",
   "metadata": {},
   "outputs": [
    {
     "name": "stdout",
     "output_type": "stream",
     "text": [
      "\n",
      "TRAIN DATA INFO:\n",
      "<class 'pandas.core.frame.DataFrame'>\n",
      "RangeIndex: 7613 entries, 0 to 7612\n",
      "Data columns (total 5 columns):\n",
      " #   Column    Non-Null Count  Dtype \n",
      "---  ------    --------------  ----- \n",
      " 0   id        7613 non-null   int64 \n",
      " 1   keyword   7552 non-null   object\n",
      " 2   location  5080 non-null   object\n",
      " 3   text      7613 non-null   object\n",
      " 4   target    7613 non-null   int64 \n",
      "dtypes: int64(2), object(3)\n",
      "memory usage: 297.5+ KB\n",
      "\n",
      "TRAIN DATA SHAPE: (7613, 5)\n",
      "\n",
      "FIRST 5 ROWS:\n",
      "   id keyword location                                               text  target\n",
      "0   1     NaN      NaN  Our Deeds are the Reason of this #earthquake M...       1\n",
      "1   4     NaN      NaN             Forest fire near La Ronge Sask. Canada       1\n",
      "2   5     NaN      NaN  All residents asked to 'shelter in place' are ...       1\n",
      "3   6     NaN      NaN  13,000 people receive #wildfires evacuation or...       1\n",
      "4   7     NaN      NaN  Just got sent this photo from Ruby #Alaska as ...       1\n",
      "\n",
      "\n",
      "TEST DATA INFO:\n",
      "<class 'pandas.core.frame.DataFrame'>\n",
      "RangeIndex: 3263 entries, 0 to 3262\n",
      "Data columns (total 4 columns):\n",
      " #   Column    Non-Null Count  Dtype \n",
      "---  ------    --------------  ----- \n",
      " 0   id        3263 non-null   int64 \n",
      " 1   keyword   3237 non-null   object\n",
      " 2   location  2158 non-null   object\n",
      " 3   text      3263 non-null   object\n",
      "dtypes: int64(1), object(3)\n",
      "memory usage: 102.1+ KB\n",
      "\n",
      "TEST DATA SHAPE: (3263, 4)\n",
      "\n",
      "FIRST 5 ROWS:\n",
      "   id keyword location                                               text\n",
      "0   0     NaN      NaN                 Just happened a terrible car crash\n",
      "1   2     NaN      NaN  Heard about #earthquake is different cities, s...\n",
      "2   3     NaN      NaN  there is a forest fire at spot pond, geese are...\n",
      "3   9     NaN      NaN           Apocalypse lighting. #Spokane #wildfires\n",
      "4  11     NaN      NaN      Typhoon Soudelor kills 28 in China and Taiwan\n",
      "\n"
     ]
    }
   ],
   "source": [
    "import pandas as pd\n",
    "# improve print formatting\n",
    "pd.set_option('display.expand_frame_repr', False)\n",
    "\n",
    "# import data\n",
    "df_train = pd.read_csv('data/train.csv')\n",
    "df_test = pd.read_csv('data/test.csv')\n",
    "\n",
    "# inspect train data\n",
    "print(f'\\nTRAIN DATA INFO:')\n",
    "df_train.info()\n",
    "print(f'\\nTRAIN DATA SHAPE: {df_train.shape}\\n')\n",
    "print(f'FIRST 5 ROWS:\\n{df_train.head()}\\n\\n')\n",
    "\n",
    "# inspect test data\n",
    "print('TEST DATA INFO:')\n",
    "df_test.info()\n",
    "print(f'\\nTEST DATA SHAPE: {df_test.shape}\\n')\n",
    "print(f'FIRST 5 ROWS:\\n{df_test.head()}\\n')"
   ]
  },
  {
   "cell_type": "markdown",
   "id": "dc8cc34a-0b5b-4155-a5b4-be3ade3d572a",
   "metadata": {},
   "source": [
    "Let us now do some basic data cleaning to ready everything for further analysis:"
   ]
  },
  {
   "cell_type": "code",
   "execution_count": 2,
   "id": "430e5d7e-4c8c-4ceb-b711-18e4e9e6a94b",
   "metadata": {},
   "outputs": [
    {
     "name": "stdout",
     "output_type": "stream",
     "text": [
      "\n",
      "TRAIN DATA MISSING VALS:\n",
      "id             0\n",
      "keyword       61\n",
      "location    2533\n",
      "text           0\n",
      "target         0\n",
      "dtype: int64\n",
      "\n",
      "TEST DATA MISSING VALS:\n",
      "id             0\n",
      "keyword       26\n",
      "location    1105\n",
      "text           0\n",
      "dtype: int64\n",
      "\n"
     ]
    }
   ],
   "source": [
    "# check missing vals\n",
    "print(f'\\nTRAIN DATA MISSING VALS:\\n{df_train.isnull().sum()}')\n",
    "print(f'\\nTEST DATA MISSING VALS:\\n{df_test.isnull().sum()}\\n')"
   ]
  },
  {
   "cell_type": "markdown",
   "id": "be909f1b-04dd-4dd4-a0bf-4e24ad4a5e4a",
   "metadata": {},
   "source": [
    "Since we have a lot of entries with missing keyword and location vals, instead of dropping them, let us fill in these fields with “unknown”. After all, the contents of the tweets themselves ought to be more important indicators."
   ]
  },
  {
   "cell_type": "code",
   "execution_count": 3,
   "id": "f6ab0104-4e7e-4869-9f7f-eb94cc9e6914",
   "metadata": {},
   "outputs": [
    {
     "name": "stdout",
     "output_type": "stream",
     "text": [
      "\n",
      "TRAIN DATA MISSING VALS:\n",
      "id          0\n",
      "keyword     0\n",
      "location    0\n",
      "text        0\n",
      "target      0\n",
      "dtype: int64\n",
      "\n",
      "TEST DATA MISSING VALS:\n",
      "id          0\n",
      "keyword     0\n",
      "location    0\n",
      "text        0\n",
      "dtype: int64\n",
      "\n"
     ]
    }
   ],
   "source": [
    "# replace missing vals with `unknown`\n",
    "df_train['keyword'] = df_train['keyword'].fillna('unknown')\n",
    "df_train['location'] = df_train['location'].fillna('unknown')\n",
    "df_test['keyword'] = df_test['keyword'].fillna('unknown')\n",
    "df_test['location'] = df_test['location'].fillna('unknown')\n",
    "\n",
    "# validate changes\n",
    "print(f'\\nTRAIN DATA MISSING VALS:\\n{df_train.isnull().sum()}')\n",
    "print(f'\\nTEST DATA MISSING VALS:\\n{df_test.isnull().sum()}\\n')"
   ]
  },
  {
   "cell_type": "markdown",
   "id": "d79be423-eb88-43d1-b475-85f68ab46a9a",
   "metadata": {},
   "source": [
    "Before moving on to the EDA, let us also drop any duplicate rows, based on the “text” column (the one for actual tweets)."
   ]
  },
  {
   "cell_type": "code",
   "execution_count": 4,
   "id": "07e1c019-1d77-4291-886e-51962cb87720",
   "metadata": {},
   "outputs": [],
   "source": [
    "df_train = df_train.drop_duplicates(subset=['text']).reset_index(drop=True)"
   ]
  },
  {
   "cell_type": "markdown",
   "id": "ffbeb429-346f-4532-965c-2e66e8ac7f4b",
   "metadata": {},
   "source": [
    "Now, let us visualize the “target” column distribution to make sure that our data is balanced enough:"
   ]
  },
  {
   "cell_type": "code",
   "execution_count": 5,
   "id": "0e33c3c8-48da-4d49-acbf-8336c633ab7f",
   "metadata": {},
   "outputs": [
    {
     "data": {
      "image/png": "[encoded data removed]",
      "text/plain": [
       "<Figure size 640x480 with 1 Axes>"
      ]
     },
     "metadata": {},
     "output_type": "display_data"
    }
   ],
   "source": [
    "import matplotlib.pyplot as plt\n",
    "import seaborn as sns\n",
    "\n",
    "sns.countplot(x='target', data=df_train)\n",
    "plt.title('Target Class Distribution')\n",
    "plt.xlabel('Target')\n",
    "plt.ylabel('Count')\n",
    "plt.show()"
   ]
  },
  {
   "cell_type": "markdown",
   "id": "4d4a86c4-0502-4887-81e2-4155b3d418d2",
   "metadata": {},
   "source": [
    "It seems that most of our tweets are of non-disaster variety. Still, we have plenty of samples for both categories.\n",
    "\n",
    "Let us also display top 10 keywords and locations, while we are at it:"
   ]
  },
  {
   "cell_type": "code",
   "execution_count": 6,
   "id": "cc1faade-f61f-4eb2-a58f-05e8f614ccbf",
   "metadata": {},
   "outputs": [
    {
     "data": {
      "image/png": "[encoded data removed]",
      "text/plain": [
       "<Figure size 640x480 with 1 Axes>"
      ]
     },
     "metadata": {},
     "output_type": "display_data"
    },
    {
     "data": {
      "image/png": "[encoded data removed]",
      "text/plain": [
       "<Figure size 640x480 with 1 Axes>"
      ]
     },
     "metadata": {},
     "output_type": "display_data"
    }
   ],
   "source": [
    "df_train[df_train['keyword'] != 'unknown']['keyword'].value_counts().head(10).plot(kind='bar')\n",
    "plt.title('Top 10 Keywords')\n",
    "plt.xlabel('Keyword')\n",
    "plt.ylabel('Count')\n",
    "plt.show()\n",
    "\n",
    "df_train[df_train['location'] != 'unknown']['location'].value_counts().head(10).plot(kind='bar')\n",
    "plt.title('Top 10 Locations')\n",
    "plt.xlabel('Location')\n",
    "plt.ylabel('Count')\n",
    "plt.show()"
   ]
  },
  {
   "cell_type": "markdown",
   "id": "b9c4332a-a16b-4ea6-a359-4b7a072b7d4c",
   "metadata": {},
   "source": [
    "Very interesting! Lastly, let us do some basic pre-processing on the tweet contents to aid our future model."
   ]
  },
  {
   "cell_type": "code",
   "execution_count": 7,
   "id": "ddb2819d-5bc7-4520-ba8a-f32eca13b513",
   "metadata": {},
   "outputs": [
    {
     "name": "stdout",
     "output_type": "stream",
     "text": [
      "\n",
      "   id  keyword location                                               text  target                                         text_clean\n",
      "0   1  unknown  unknown  Our Deeds are the Reason of this #earthquake M...       1  our deeds are the reason of this earthquake ma...\n",
      "1   4  unknown  unknown             Forest fire near La Ronge Sask. Canada       1              forest fire near la ronge sask canada\n",
      "2   5  unknown  unknown  All residents asked to 'shelter in place' are ...       1  all residents asked to shelter in place are be...\n",
      "3   6  unknown  unknown  13,000 people receive #wildfires evacuation or...       1   people receive wildfires evacuation orders in...\n",
      "4   7  unknown  unknown  Just got sent this photo from Ruby #Alaska as ...       1  just got sent this photo from ruby alaska as s...\n",
      "\n",
      "\n",
      "\n",
      "   id  keyword location                                               text                                         text_clean\n",
      "0   0  unknown  unknown                 Just happened a terrible car crash                 just happened a terrible car crash\n",
      "1   2  unknown  unknown  Heard about #earthquake is different cities, s...  heard about earthquake is different cities sta...\n",
      "2   3  unknown  unknown  there is a forest fire at spot pond, geese are...  there is a forest fire at spot pond geese are ...\n",
      "3   9  unknown  unknown           Apocalypse lighting. #Spokane #wildfires              apocalypse lighting spokane wildfires\n",
      "4  11  unknown  unknown      Typhoon Soudelor kills 28 in China and Taiwan        typhoon soudelor kills  in china and taiwan\n",
      "\n"
     ]
    }
   ],
   "source": [
    "import re\n",
    "\n",
    "def clean_text(text):\n",
    "    # make text lowercase\n",
    "    text = text.lower()\n",
    "    # remove numbers and special characters\n",
    "    text = re.sub(r'[^a-z\\s]', '', text)\n",
    "    # remove URLs\n",
    "    text = re.sub(r'http\\S+', '', text)\n",
    "    return text\n",
    "\n",
    "# clean `text` column & add it as `text_clean` column\n",
    "df_train['text_clean'] = df_train['text'].apply(clean_text)\n",
    "df_test['text_clean'] = df_test['text'].apply(clean_text)\n",
    "\n",
    "# check changes\n",
    "print(f'\\n{df_train.head()}\\n\\n')\n",
    "print(f'\\n{df_test.head()}\\n')"
   ]
  },
  {
   "cell_type": "markdown",
   "id": "a5acd63b-a0f0-4efa-9196-795cdc70182a",
   "metadata": {},
   "source": [
    "Before doing anything else, since our test data lacks labels, let us split our train data (80/20) into train and validate (val) sets:"
   ]
  },
  {
   "cell_type": "code",
   "execution_count": 8,
   "id": "12a59624-32b2-4009-9795-7cebc6698494",
   "metadata": {},
   "outputs": [],
   "source": [
    "from sklearn.model_selection import train_test_split\n",
    "\n",
    "# feature\n",
    "X = df_train['text_clean']\n",
    "# target\n",
    "y = df_train['target']\n",
    "\n",
    "# split train data into train and val sets\n",
    "X_train, X_val, y_train, y_val = train_test_split(X, y, test_size=0.2, stratify=y)"
   ]
  },
  {
   "cell_type": "markdown",
   "id": "9e14834b-d826-4dfe-a71d-ece8886eec58",
   "metadata": {},
   "source": [
    "Now, let us do some more pre-processing on our text data—ready it for model training. This will involve tokenizing said text and padding the sequences to get uniform size input."
   ]
  },
  {
   "cell_type": "code",
   "execution_count": 9,
   "id": "759660f6-ccec-45d1-91df-ae69208bbcf6",
   "metadata": {},
   "outputs": [],
   "source": [
    "from tensorflow.keras.preprocessing.text import Tokenizer\n",
    "from tensorflow.keras.preprocessing.sequence import pad_sequences\n",
    "\n",
    "# tokenize text--consider at most 10,000 words\n",
    "tokenizer = Tokenizer(num_words=10000)\n",
    "tokenizer.fit_on_texts(X_train)\n",
    "\n",
    "# convert text to sequences\n",
    "X_train_seq = tokenizer.texts_to_sequences(X_train)\n",
    "X_val_seq = tokenizer.texts_to_sequences(X_val)\n",
    "# pad sequences--make max length 100\n",
    "X_train_seq = pad_sequences(X_train_seq, maxlen=100)\n",
    "X_val_seq = pad_sequences(X_val_seq, maxlen=100)\n",
    "\n",
    "# convert target labels to np arrays\n",
    "y_train = y_train.values\n",
    "y_val = y_val.values"
   ]
  },
  {
   "cell_type": "markdown",
   "id": "e29be5c1-11ef-4108-94d3-1059e771c5e0",
   "metadata": {},
   "source": [
    "Next, let us build a simple LSTM model. We will begin with an embedding layer, converting our text sequences into vectors and capturing word relationships. Then, we will place 2 LSTM layers capable of learning learning long-term dependencies. Placed between these, the dropout layers will help with overfitting. Since we are dealing with binary classification, the output layer will use a sigmoid function. Such a model will be able to capture the intricacies of human languages despite the noisy input data. It will also be relatively computationally efficient."
   ]
  },
  {
   "cell_type": "code",
   "execution_count": 10,
   "id": "8569417e-711a-4c84-a94f-a8be2e41e056",
   "metadata": {},
   "outputs": [
    {
     "data": {
      "text/html": [
       "<pre style=\"white-space:pre;overflow-x:auto;line-height:normal;font-family:Menlo,'DejaVu Sans Mono',consolas,'Courier New',monospace\"><span style=\"font-weight: bold\">Model: \"sequential\"</span>\n",
       "</pre>\n"
      ],
      "text/plain": [
       "\u001b[1mModel: \"sequential\"\u001b[0m\n"
      ]
     },
     "metadata": {},
     "output_type": "display_data"
    },
    {
     "data": {
      "text/html": [
       "<pre style=\"white-space:pre;overflow-x:auto;line-height:normal;font-family:Menlo,'DejaVu Sans Mono',consolas,'Courier New',monospace\">┏━━━━━━━━━━━━━━━━━━━━━━━━━━━━━━━━━┳━━━━━━━━━━━━━━━━━━━━━━━━┳━━━━━━━━━━━━━━━┓\n",
       "┃<span style=\"font-weight: bold\"> Layer (type)                    </span>┃<span style=\"font-weight: bold\"> Output Shape           </span>┃<span style=\"font-weight: bold\">       Param # </span>┃\n",
       "┡━━━━━━━━━━━━━━━━━━━━━━━━━━━━━━━━━╇━━━━━━━━━━━━━━━━━━━━━━━━╇━━━━━━━━━━━━━━━┩\n",
       "│ embedding (<span style=\"color: #0087ff; text-decoration-color: #0087ff\">Embedding</span>)           │ (<span style=\"color: #00d7ff; text-decoration-color: #00d7ff\">None</span>, <span style=\"color: #00af00; text-decoration-color: #00af00\">100</span>, <span style=\"color: #00af00; text-decoration-color: #00af00\">100</span>)       │     <span style=\"color: #00af00; text-decoration-color: #00af00\">1,000,000</span> │\n",
       "├─────────────────────────────────┼────────────────────────┼───────────────┤\n",
       "│ lstm (<span style=\"color: #0087ff; text-decoration-color: #0087ff\">LSTM</span>)                     │ (<span style=\"color: #00d7ff; text-decoration-color: #00d7ff\">None</span>, <span style=\"color: #00af00; text-decoration-color: #00af00\">100</span>, <span style=\"color: #00af00; text-decoration-color: #00af00\">64</span>)        │        <span style=\"color: #00af00; text-decoration-color: #00af00\">42,240</span> │\n",
       "├─────────────────────────────────┼────────────────────────┼───────────────┤\n",
       "│ dropout (<span style=\"color: #0087ff; text-decoration-color: #0087ff\">Dropout</span>)               │ (<span style=\"color: #00d7ff; text-decoration-color: #00d7ff\">None</span>, <span style=\"color: #00af00; text-decoration-color: #00af00\">100</span>, <span style=\"color: #00af00; text-decoration-color: #00af00\">64</span>)        │             <span style=\"color: #00af00; text-decoration-color: #00af00\">0</span> │\n",
       "├─────────────────────────────────┼────────────────────────┼───────────────┤\n",
       "│ lstm_1 (<span style=\"color: #0087ff; text-decoration-color: #0087ff\">LSTM</span>)                   │ (<span style=\"color: #00d7ff; text-decoration-color: #00d7ff\">None</span>, <span style=\"color: #00af00; text-decoration-color: #00af00\">32</span>)             │        <span style=\"color: #00af00; text-decoration-color: #00af00\">12,416</span> │\n",
       "├─────────────────────────────────┼────────────────────────┼───────────────┤\n",
       "│ dropout_1 (<span style=\"color: #0087ff; text-decoration-color: #0087ff\">Dropout</span>)             │ (<span style=\"color: #00d7ff; text-decoration-color: #00d7ff\">None</span>, <span style=\"color: #00af00; text-decoration-color: #00af00\">32</span>)             │             <span style=\"color: #00af00; text-decoration-color: #00af00\">0</span> │\n",
       "├─────────────────────────────────┼────────────────────────┼───────────────┤\n",
       "│ dense (<span style=\"color: #0087ff; text-decoration-color: #0087ff\">Dense</span>)                   │ (<span style=\"color: #00d7ff; text-decoration-color: #00d7ff\">None</span>, <span style=\"color: #00af00; text-decoration-color: #00af00\">1</span>)              │            <span style=\"color: #00af00; text-decoration-color: #00af00\">33</span> │\n",
       "└─────────────────────────────────┴────────────────────────┴───────────────┘\n",
       "</pre>\n"
      ],
      "text/plain": [
       "┏━━━━━━━━━━━━━━━━━━━━━━━━━━━━━━━━━┳━━━━━━━━━━━━━━━━━━━━━━━━┳━━━━━━━━━━━━━━━┓\n",
       "┃\u001b[1m \u001b[0m\u001b[1mLayer (type)                   \u001b[0m\u001b[1m \u001b[0m┃\u001b[1m \u001b[0m\u001b[1mOutput Shape          \u001b[0m\u001b[1m \u001b[0m┃\u001b[1m \u001b[0m\u001b[1m      Param #\u001b[0m\u001b[1m \u001b[0m┃\n",
       "┡━━━━━━━━━━━━━━━━━━━━━━━━━━━━━━━━━╇━━━━━━━━━━━━━━━━━━━━━━━━╇━━━━━━━━━━━━━━━┩\n",
       "│ embedding (\u001b[38;5;33mEmbedding\u001b[0m)           │ (\u001b[38;5;45mNone\u001b[0m, \u001b[38;5;34m100\u001b[0m, \u001b[38;5;34m100\u001b[0m)       │     \u001b[38;5;34m1,000,000\u001b[0m │\n",
       "├─────────────────────────────────┼────────────────────────┼───────────────┤\n",
       "│ lstm (\u001b[38;5;33mLSTM\u001b[0m)                     │ (\u001b[38;5;45mNone\u001b[0m, \u001b[38;5;34m100\u001b[0m, \u001b[38;5;34m64\u001b[0m)        │        \u001b[38;5;34m42,240\u001b[0m │\n",
       "├─────────────────────────────────┼────────────────────────┼───────────────┤\n",
       "│ dropout (\u001b[38;5;33mDropout\u001b[0m)               │ (\u001b[38;5;45mNone\u001b[0m, \u001b[38;5;34m100\u001b[0m, \u001b[38;5;34m64\u001b[0m)        │             \u001b[38;5;34m0\u001b[0m │\n",
       "├─────────────────────────────────┼────────────────────────┼───────────────┤\n",
       "│ lstm_1 (\u001b[38;5;33mLSTM\u001b[0m)                   │ (\u001b[38;5;45mNone\u001b[0m, \u001b[38;5;34m32\u001b[0m)             │        \u001b[38;5;34m12,416\u001b[0m │\n",
       "├─────────────────────────────────┼────────────────────────┼───────────────┤\n",
       "│ dropout_1 (\u001b[38;5;33mDropout\u001b[0m)             │ (\u001b[38;5;45mNone\u001b[0m, \u001b[38;5;34m32\u001b[0m)             │             \u001b[38;5;34m0\u001b[0m │\n",
       "├─────────────────────────────────┼────────────────────────┼───────────────┤\n",
       "│ dense (\u001b[38;5;33mDense\u001b[0m)                   │ (\u001b[38;5;45mNone\u001b[0m, \u001b[38;5;34m1\u001b[0m)              │            \u001b[38;5;34m33\u001b[0m │\n",
       "└─────────────────────────────────┴────────────────────────┴───────────────┘\n"
      ]
     },
     "metadata": {},
     "output_type": "display_data"
    },
    {
     "data": {
      "text/html": [
       "<pre style=\"white-space:pre;overflow-x:auto;line-height:normal;font-family:Menlo,'DejaVu Sans Mono',consolas,'Courier New',monospace\"><span style=\"font-weight: bold\"> Total params: </span><span style=\"color: #00af00; text-decoration-color: #00af00\">1,054,689</span> (4.02 MB)\n",
       "</pre>\n"
      ],
      "text/plain": [
       "\u001b[1m Total params: \u001b[0m\u001b[38;5;34m1,054,689\u001b[0m (4.02 MB)\n"
      ]
     },
     "metadata": {},
     "output_type": "display_data"
    },
    {
     "data": {
      "text/html": [
       "<pre style=\"white-space:pre;overflow-x:auto;line-height:normal;font-family:Menlo,'DejaVu Sans Mono',consolas,'Courier New',monospace\"><span style=\"font-weight: bold\"> Trainable params: </span><span style=\"color: #00af00; text-decoration-color: #00af00\">1,054,689</span> (4.02 MB)\n",
       "</pre>\n"
      ],
      "text/plain": [
       "\u001b[1m Trainable params: \u001b[0m\u001b[38;5;34m1,054,689\u001b[0m (4.02 MB)\n"
      ]
     },
     "metadata": {},
     "output_type": "display_data"
    },
    {
     "data": {
      "text/html": [
       "<pre style=\"white-space:pre;overflow-x:auto;line-height:normal;font-family:Menlo,'DejaVu Sans Mono',consolas,'Courier New',monospace\"><span style=\"font-weight: bold\"> Non-trainable params: </span><span style=\"color: #00af00; text-decoration-color: #00af00\">0</span> (0.00 B)\n",
       "</pre>\n"
      ],
      "text/plain": [
       "\u001b[1m Non-trainable params: \u001b[0m\u001b[38;5;34m0\u001b[0m (0.00 B)\n"
      ]
     },
     "metadata": {},
     "output_type": "display_data"
    }
   ],
   "source": [
    "from tensorflow.keras.models import Sequential\n",
    "from tensorflow.keras.layers import Embedding, Dense, Dropout, Input, LSTM\n",
    "\n",
    "# init model\n",
    "model = Sequential()\n",
    "# add input layer\n",
    "model.add(Input((100,)))\n",
    "# add embedding layer: consider max 10,000 words & have vectors with 100 dimensions\n",
    "model.add(Embedding(input_dim=10000, output_dim=100))\n",
    "# add 1st LSTM layer of size 64\n",
    "model.add(LSTM(64, return_sequences=True))\n",
    "# add dropout layer\n",
    "model.add(Dropout(0.5))\n",
    "# add 2nd LSTM layer of size 32\n",
    "model.add(LSTM(32))\n",
    "# add another dropout layer\n",
    "model.add(Dropout(0.5))\n",
    "# add output layer\n",
    "model.add(Dense(1, activation='sigmoid'))\n",
    "\n",
    "# compile model and print summary\n",
    "model.compile(loss='binary_crossentropy', optimizer='adam', metrics=['accuracy'])\n",
    "model.summary()"
   ]
  },
  {
   "cell_type": "markdown",
   "id": "c58be991-00e9-4f48-984e-3a6bbc82e830",
   "metadata": {},
   "source": [
    "Let us now train and evaluate this model:"
   ]
  },
  {
   "cell_type": "code",
   "execution_count": 11,
   "id": "7da4dfbd-fa07-4bae-b841-eaa26b03afb1",
   "metadata": {},
   "outputs": [
    {
     "name": "stdout",
     "output_type": "stream",
     "text": [
      "Epoch 1/10\n",
      "\u001b[1m188/188\u001b[0m \u001b[32m━━━━━━━━━━━━━━━━━━━━\u001b[0m\u001b[37m\u001b[0m \u001b[1m9s\u001b[0m 44ms/step - accuracy: 0.6390 - loss: 0.6250 - val_accuracy: 0.7921 - val_loss: 0.4653\n",
      "Epoch 2/10\n",
      "\u001b[1m188/188\u001b[0m \u001b[32m━━━━━━━━━━━━━━━━━━━━\u001b[0m\u001b[37m\u001b[0m \u001b[1m9s\u001b[0m 45ms/step - accuracy: 0.8601 - loss: 0.3431 - val_accuracy: 0.7901 - val_loss: 0.4692\n",
      "Epoch 3/10\n",
      "\u001b[1m188/188\u001b[0m \u001b[32m━━━━━━━━━━━━━━━━━━━━\u001b[0m\u001b[37m\u001b[0m \u001b[1m8s\u001b[0m 45ms/step - accuracy: 0.9248 - loss: 0.2206 - val_accuracy: 0.7875 - val_loss: 0.5164\n",
      "Epoch 4/10\n",
      "\u001b[1m188/188\u001b[0m \u001b[32m━━━━━━━━━━━━━━━━━━━━\u001b[0m\u001b[37m\u001b[0m \u001b[1m8s\u001b[0m 44ms/step - accuracy: 0.9498 - loss: 0.1542 - val_accuracy: 0.7735 - val_loss: 0.6839\n",
      "Epoch 5/10\n",
      "\u001b[1m188/188\u001b[0m \u001b[32m━━━━━━━━━━━━━━━━━━━━\u001b[0m\u001b[37m\u001b[0m \u001b[1m8s\u001b[0m 45ms/step - accuracy: 0.9674 - loss: 0.1092 - val_accuracy: 0.7815 - val_loss: 0.7199\n",
      "Epoch 6/10\n",
      "\u001b[1m188/188\u001b[0m \u001b[32m━━━━━━━━━━━━━━━━━━━━\u001b[0m\u001b[37m\u001b[0m \u001b[1m8s\u001b[0m 44ms/step - accuracy: 0.9712 - loss: 0.0922 - val_accuracy: 0.7748 - val_loss: 0.8141\n",
      "\u001b[1m47/47\u001b[0m \u001b[32m━━━━━━━━━━━━━━━━━━━━\u001b[0m\u001b[37m\u001b[0m \u001b[1m0s\u001b[0m 10ms/step - accuracy: 0.7973 - loss: 0.4634\n",
      "VALIDATION LOSS: 0.47\n",
      "VALIDATION ACCURACY: 0.79\n"
     ]
    }
   ],
   "source": [
    "from tensorflow.keras.callbacks import EarlyStopping\n",
    "\n",
    "# early stopping callback\n",
    "early_stopping = EarlyStopping(monitor='val_loss', patience=5, restore_best_weights=True)\n",
    "# train model with early stopping\n",
    "model.fit(\n",
    "    X_train_seq,\n",
    "    y_train,\n",
    "    validation_data=(X_val_seq, y_val),\n",
    "    epochs=10,\n",
    "    batch_size=32,\n",
    "    callbacks=[early_stopping]\n",
    ")\n",
    "\n",
    "# evaluate model\n",
    "loss, accuracy = model.evaluate(X_val_seq, y_val)\n",
    "print(f'VALIDATION LOSS: {loss:.2f}')\n",
    "print(f'VALIDATION ACCURACY: {accuracy:.2f}')"
   ]
  },
  {
   "cell_type": "markdown",
   "id": "de18d1c9-141d-4c58-873f-2aea6ec906a0",
   "metadata": {},
   "source": [
    "Not bad! Let us run it again with slower and faster learning rates to see if they change the results in any significant ways.\n",
    "\n",
    "The default learning rate is 0.001. Let us try 0.01 instead:"
   ]
  },
  {
   "cell_type": "code",
   "execution_count": 12,
   "id": "226a1b38-c22e-4739-891d-92cb1122371b",
   "metadata": {},
   "outputs": [
    {
     "name": "stdout",
     "output_type": "stream",
     "text": [
      "Epoch 1/10\n",
      "\u001b[1m188/188\u001b[0m \u001b[32m━━━━━━━━━━━━━━━━━━━━\u001b[0m\u001b[37m\u001b[0m \u001b[1m9s\u001b[0m 44ms/step - accuracy: 0.7543 - loss: 0.5697 - val_accuracy: 0.7961 - val_loss: 0.4651\n",
      "Epoch 2/10\n",
      "\u001b[1m188/188\u001b[0m \u001b[32m━━━━━━━━━━━━━━━━━━━━\u001b[0m\u001b[37m\u001b[0m \u001b[1m8s\u001b[0m 43ms/step - accuracy: 0.9035 - loss: 0.2741 - val_accuracy: 0.7801 - val_loss: 0.5524\n",
      "Epoch 3/10\n",
      "\u001b[1m188/188\u001b[0m \u001b[32m━━━━━━━━━━━━━━━━━━━━\u001b[0m\u001b[37m\u001b[0m \u001b[1m8s\u001b[0m 44ms/step - accuracy: 0.9371 - loss: 0.1767 - val_accuracy: 0.7648 - val_loss: 0.6090\n",
      "Epoch 4/10\n",
      "\u001b[1m188/188\u001b[0m \u001b[32m━━━━━━━━━━━━━━━━━━━━\u001b[0m\u001b[37m\u001b[0m \u001b[1m8s\u001b[0m 44ms/step - accuracy: 0.9516 - loss: 0.1287 - val_accuracy: 0.7602 - val_loss: 0.8609\n",
      "Epoch 5/10\n",
      "\u001b[1m188/188\u001b[0m \u001b[32m━━━━━━━━━━━━━━━━━━━━\u001b[0m\u001b[37m\u001b[0m \u001b[1m8s\u001b[0m 44ms/step - accuracy: 0.9669 - loss: 0.0937 - val_accuracy: 0.7528 - val_loss: 1.0138\n",
      "Epoch 6/10\n",
      "\u001b[1m188/188\u001b[0m \u001b[32m━━━━━━━━━━━━━━━━━━━━\u001b[0m\u001b[37m\u001b[0m \u001b[1m8s\u001b[0m 44ms/step - accuracy: 0.9725 - loss: 0.0613 - val_accuracy: 0.7582 - val_loss: 1.1080\n",
      "\u001b[1m47/47\u001b[0m \u001b[32m━━━━━━━━━━━━━━━━━━━━\u001b[0m\u001b[37m\u001b[0m \u001b[1m0s\u001b[0m 10ms/step - accuracy: 0.7982 - loss: 0.4657\n",
      "VALIDATION LOSS: 0.47\n",
      "VALIDATION ACCURACY: 0.80\n"
     ]
    }
   ],
   "source": [
    "from tensorflow.keras.optimizers import Adam\n",
    "\n",
    "# re-compile model with 10x faster learning rate\n",
    "model.compile(loss='binary_crossentropy', optimizer=Adam(learning_rate=0.01), metrics=['accuracy'])\n",
    "\n",
    "# re-fit and re-evaluate\n",
    "model.fit(\n",
    "    X_train_seq,\n",
    "    y_train,\n",
    "    validation_data=(X_val_seq, y_val),\n",
    "    epochs=10,\n",
    "    batch_size=32,\n",
    "    callbacks=[early_stopping]\n",
    ")\n",
    "loss, accuracy = model.evaluate(X_val_seq, y_val)\n",
    "print(f'VALIDATION LOSS: {loss:.2f}')\n",
    "print(f'VALIDATION ACCURACY: {accuracy:.2f}')"
   ]
  },
  {
   "cell_type": "markdown",
   "id": "71e656f3-04b9-441e-aa17-69b9e96c9d55",
   "metadata": {},
   "source": [
    "Now let us try 0.0001 (10x slower) instead:"
   ]
  },
  {
   "cell_type": "code",
   "execution_count": 13,
   "id": "5d27db0a-5e8f-4ec6-848f-8bc9430e7d42",
   "metadata": {},
   "outputs": [
    {
     "name": "stdout",
     "output_type": "stream",
     "text": [
      "Epoch 1/10\n",
      "\u001b[1m188/188\u001b[0m \u001b[32m━━━━━━━━━━━━━━━━━━━━\u001b[0m\u001b[37m\u001b[0m \u001b[1m9s\u001b[0m 43ms/step - accuracy: 0.9081 - loss: 0.2728 - val_accuracy: 0.7961 - val_loss: 0.4869\n",
      "Epoch 2/10\n",
      "\u001b[1m188/188\u001b[0m \u001b[32m━━━━━━━━━━━━━━━━━━━━\u001b[0m\u001b[37m\u001b[0m \u001b[1m8s\u001b[0m 43ms/step - accuracy: 0.9150 - loss: 0.2397 - val_accuracy: 0.7961 - val_loss: 0.5034\n",
      "Epoch 3/10\n",
      "\u001b[1m188/188\u001b[0m \u001b[32m━━━━━━━━━━━━━━━━━━━━\u001b[0m\u001b[37m\u001b[0m \u001b[1m8s\u001b[0m 43ms/step - accuracy: 0.9126 - loss: 0.2466 - val_accuracy: 0.7981 - val_loss: 0.5140\n",
      "Epoch 4/10\n",
      "\u001b[1m188/188\u001b[0m \u001b[32m━━━━━━━━━━━━━━━━━━━━\u001b[0m\u001b[37m\u001b[0m \u001b[1m8s\u001b[0m 43ms/step - accuracy: 0.9238 - loss: 0.2149 - val_accuracy: 0.7968 - val_loss: 0.5221\n",
      "Epoch 5/10\n",
      "\u001b[1m188/188\u001b[0m \u001b[32m━━━━━━━━━━━━━━━━━━━━\u001b[0m\u001b[37m\u001b[0m \u001b[1m8s\u001b[0m 43ms/step - accuracy: 0.9267 - loss: 0.2236 - val_accuracy: 0.7961 - val_loss: 0.5268\n",
      "\u001b[1m47/47\u001b[0m \u001b[32m━━━━━━━━━━━━━━━━━━━━\u001b[0m\u001b[37m\u001b[0m \u001b[1m0s\u001b[0m 10ms/step - accuracy: 0.7964 - loss: 0.4885\n",
      "VALIDATION LOSS: 0.49\n",
      "VALIDATION ACCURACY: 0.80\n"
     ]
    }
   ],
   "source": [
    "# re-compile model with 10x slower learning rate\n",
    "model.compile(loss='binary_crossentropy', optimizer=Adam(learning_rate=0.0001), metrics=['accuracy'])\n",
    "\n",
    "# re-fit and re-evaluate\n",
    "model.fit(\n",
    "    X_train_seq,\n",
    "    y_train,\n",
    "    validation_data=(X_val_seq, y_val),\n",
    "    epochs=10,\n",
    "    batch_size=32,\n",
    "    callbacks=[early_stopping]\n",
    ")\n",
    "loss, accuracy = model.evaluate(X_val_seq, y_val)\n",
    "print(f'VALIDATION LOSS: {loss:.2f}')\n",
    "print(f'VALIDATION ACCURACY: {accuracy:.2f}')"
   ]
  },
  {
   "cell_type": "markdown",
   "id": "480bcffa-2e0f-480e-8f90-30024a8fe51e",
   "metadata": {},
   "source": [
    "Seeing how the learning rate adjustments do not yield much different results, let us try a different architecture instead.\n",
    "\n",
    "Our potentially better model will be a bidirectional LSTM, capable of learning from both past and future contexts. Let us build and evaluate it in the following cell:"
   ]
  },
  {
   "cell_type": "code",
   "execution_count": 14,
   "id": "467161cf-c826-40f3-950b-fcd8495d3f35",
   "metadata": {},
   "outputs": [
    {
     "data": {
      "text/html": [
       "<pre style=\"white-space:pre;overflow-x:auto;line-height:normal;font-family:Menlo,'DejaVu Sans Mono',consolas,'Courier New',monospace\"><span style=\"font-weight: bold\">Model: \"sequential_1\"</span>\n",
       "</pre>\n"
      ],
      "text/plain": [
       "\u001b[1mModel: \"sequential_1\"\u001b[0m\n"
      ]
     },
     "metadata": {},
     "output_type": "display_data"
    },
    {
     "data": {
      "text/html": [
       "<pre style=\"white-space:pre;overflow-x:auto;line-height:normal;font-family:Menlo,'DejaVu Sans Mono',consolas,'Courier New',monospace\">┏━━━━━━━━━━━━━━━━━━━━━━━━━━━━━━━━━┳━━━━━━━━━━━━━━━━━━━━━━━━┳━━━━━━━━━━━━━━━┓\n",
       "┃<span style=\"font-weight: bold\"> Layer (type)                    </span>┃<span style=\"font-weight: bold\"> Output Shape           </span>┃<span style=\"font-weight: bold\">       Param # </span>┃\n",
       "┡━━━━━━━━━━━━━━━━━━━━━━━━━━━━━━━━━╇━━━━━━━━━━━━━━━━━━━━━━━━╇━━━━━━━━━━━━━━━┩\n",
       "│ embedding_1 (<span style=\"color: #0087ff; text-decoration-color: #0087ff\">Embedding</span>)         │ (<span style=\"color: #00d7ff; text-decoration-color: #00d7ff\">None</span>, <span style=\"color: #00af00; text-decoration-color: #00af00\">100</span>, <span style=\"color: #00af00; text-decoration-color: #00af00\">100</span>)       │     <span style=\"color: #00af00; text-decoration-color: #00af00\">1,000,000</span> │\n",
       "├─────────────────────────────────┼────────────────────────┼───────────────┤\n",
       "│ bidirectional (<span style=\"color: #0087ff; text-decoration-color: #0087ff\">Bidirectional</span>)   │ (<span style=\"color: #00d7ff; text-decoration-color: #00d7ff\">None</span>, <span style=\"color: #00af00; text-decoration-color: #00af00\">100</span>, <span style=\"color: #00af00; text-decoration-color: #00af00\">128</span>)       │        <span style=\"color: #00af00; text-decoration-color: #00af00\">84,480</span> │\n",
       "├─────────────────────────────────┼────────────────────────┼───────────────┤\n",
       "│ dropout_2 (<span style=\"color: #0087ff; text-decoration-color: #0087ff\">Dropout</span>)             │ (<span style=\"color: #00d7ff; text-decoration-color: #00d7ff\">None</span>, <span style=\"color: #00af00; text-decoration-color: #00af00\">100</span>, <span style=\"color: #00af00; text-decoration-color: #00af00\">128</span>)       │             <span style=\"color: #00af00; text-decoration-color: #00af00\">0</span> │\n",
       "├─────────────────────────────────┼────────────────────────┼───────────────┤\n",
       "│ bidirectional_1 (<span style=\"color: #0087ff; text-decoration-color: #0087ff\">Bidirectional</span>) │ (<span style=\"color: #00d7ff; text-decoration-color: #00d7ff\">None</span>, <span style=\"color: #00af00; text-decoration-color: #00af00\">64</span>)             │        <span style=\"color: #00af00; text-decoration-color: #00af00\">41,216</span> │\n",
       "├─────────────────────────────────┼────────────────────────┼───────────────┤\n",
       "│ dropout_3 (<span style=\"color: #0087ff; text-decoration-color: #0087ff\">Dropout</span>)             │ (<span style=\"color: #00d7ff; text-decoration-color: #00d7ff\">None</span>, <span style=\"color: #00af00; text-decoration-color: #00af00\">64</span>)             │             <span style=\"color: #00af00; text-decoration-color: #00af00\">0</span> │\n",
       "├─────────────────────────────────┼────────────────────────┼───────────────┤\n",
       "│ dense_1 (<span style=\"color: #0087ff; text-decoration-color: #0087ff\">Dense</span>)                 │ (<span style=\"color: #00d7ff; text-decoration-color: #00d7ff\">None</span>, <span style=\"color: #00af00; text-decoration-color: #00af00\">1</span>)              │            <span style=\"color: #00af00; text-decoration-color: #00af00\">65</span> │\n",
       "└─────────────────────────────────┴────────────────────────┴───────────────┘\n",
       "</pre>\n"
      ],
      "text/plain": [
       "┏━━━━━━━━━━━━━━━━━━━━━━━━━━━━━━━━━┳━━━━━━━━━━━━━━━━━━━━━━━━┳━━━━━━━━━━━━━━━┓\n",
       "┃\u001b[1m \u001b[0m\u001b[1mLayer (type)                   \u001b[0m\u001b[1m \u001b[0m┃\u001b[1m \u001b[0m\u001b[1mOutput Shape          \u001b[0m\u001b[1m \u001b[0m┃\u001b[1m \u001b[0m\u001b[1m      Param #\u001b[0m\u001b[1m \u001b[0m┃\n",
       "┡━━━━━━━━━━━━━━━━━━━━━━━━━━━━━━━━━╇━━━━━━━━━━━━━━━━━━━━━━━━╇━━━━━━━━━━━━━━━┩\n",
       "│ embedding_1 (\u001b[38;5;33mEmbedding\u001b[0m)         │ (\u001b[38;5;45mNone\u001b[0m, \u001b[38;5;34m100\u001b[0m, \u001b[38;5;34m100\u001b[0m)       │     \u001b[38;5;34m1,000,000\u001b[0m │\n",
       "├─────────────────────────────────┼────────────────────────┼───────────────┤\n",
       "│ bidirectional (\u001b[38;5;33mBidirectional\u001b[0m)   │ (\u001b[38;5;45mNone\u001b[0m, \u001b[38;5;34m100\u001b[0m, \u001b[38;5;34m128\u001b[0m)       │        \u001b[38;5;34m84,480\u001b[0m │\n",
       "├─────────────────────────────────┼────────────────────────┼───────────────┤\n",
       "│ dropout_2 (\u001b[38;5;33mDropout\u001b[0m)             │ (\u001b[38;5;45mNone\u001b[0m, \u001b[38;5;34m100\u001b[0m, \u001b[38;5;34m128\u001b[0m)       │             \u001b[38;5;34m0\u001b[0m │\n",
       "├─────────────────────────────────┼────────────────────────┼───────────────┤\n",
       "│ bidirectional_1 (\u001b[38;5;33mBidirectional\u001b[0m) │ (\u001b[38;5;45mNone\u001b[0m, \u001b[38;5;34m64\u001b[0m)             │        \u001b[38;5;34m41,216\u001b[0m │\n",
       "├─────────────────────────────────┼────────────────────────┼───────────────┤\n",
       "│ dropout_3 (\u001b[38;5;33mDropout\u001b[0m)             │ (\u001b[38;5;45mNone\u001b[0m, \u001b[38;5;34m64\u001b[0m)             │             \u001b[38;5;34m0\u001b[0m │\n",
       "├─────────────────────────────────┼────────────────────────┼───────────────┤\n",
       "│ dense_1 (\u001b[38;5;33mDense\u001b[0m)                 │ (\u001b[38;5;45mNone\u001b[0m, \u001b[38;5;34m1\u001b[0m)              │            \u001b[38;5;34m65\u001b[0m │\n",
       "└─────────────────────────────────┴────────────────────────┴───────────────┘\n"
      ]
     },
     "metadata": {},
     "output_type": "display_data"
    },
    {
     "data": {
      "text/html": [
       "<pre style=\"white-space:pre;overflow-x:auto;line-height:normal;font-family:Menlo,'DejaVu Sans Mono',consolas,'Courier New',monospace\"><span style=\"font-weight: bold\"> Total params: </span><span style=\"color: #00af00; text-decoration-color: #00af00\">1,125,761</span> (4.29 MB)\n",
       "</pre>\n"
      ],
      "text/plain": [
       "\u001b[1m Total params: \u001b[0m\u001b[38;5;34m1,125,761\u001b[0m (4.29 MB)\n"
      ]
     },
     "metadata": {},
     "output_type": "display_data"
    },
    {
     "data": {
      "text/html": [
       "<pre style=\"white-space:pre;overflow-x:auto;line-height:normal;font-family:Menlo,'DejaVu Sans Mono',consolas,'Courier New',monospace\"><span style=\"font-weight: bold\"> Trainable params: </span><span style=\"color: #00af00; text-decoration-color: #00af00\">1,125,761</span> (4.29 MB)\n",
       "</pre>\n"
      ],
      "text/plain": [
       "\u001b[1m Trainable params: \u001b[0m\u001b[38;5;34m1,125,761\u001b[0m (4.29 MB)\n"
      ]
     },
     "metadata": {},
     "output_type": "display_data"
    },
    {
     "data": {
      "text/html": [
       "<pre style=\"white-space:pre;overflow-x:auto;line-height:normal;font-family:Menlo,'DejaVu Sans Mono',consolas,'Courier New',monospace\"><span style=\"font-weight: bold\"> Non-trainable params: </span><span style=\"color: #00af00; text-decoration-color: #00af00\">0</span> (0.00 B)\n",
       "</pre>\n"
      ],
      "text/plain": [
       "\u001b[1m Non-trainable params: \u001b[0m\u001b[38;5;34m0\u001b[0m (0.00 B)\n"
      ]
     },
     "metadata": {},
     "output_type": "display_data"
    },
    {
     "name": "stdout",
     "output_type": "stream",
     "text": [
      "Epoch 1/10\n",
      "\u001b[1m188/188\u001b[0m \u001b[32m━━━━━━━━━━━━━━━━━━━━\u001b[0m\u001b[37m\u001b[0m \u001b[1m15s\u001b[0m 71ms/step - accuracy: 0.6371 - loss: 0.6216 - val_accuracy: 0.7928 - val_loss: 0.4672\n",
      "Epoch 2/10\n",
      "\u001b[1m188/188\u001b[0m \u001b[32m━━━━━━━━━━━━━━━━━━━━\u001b[0m\u001b[37m\u001b[0m \u001b[1m17s\u001b[0m 92ms/step - accuracy: 0.8717 - loss: 0.3334 - val_accuracy: 0.7908 - val_loss: 0.4696\n",
      "Epoch 3/10\n",
      "\u001b[1m188/188\u001b[0m \u001b[32m━━━━━━━━━━━━━━━━━━━━\u001b[0m\u001b[37m\u001b[0m \u001b[1m17s\u001b[0m 92ms/step - accuracy: 0.9305 - loss: 0.2124 - val_accuracy: 0.7788 - val_loss: 0.5360\n",
      "Epoch 4/10\n",
      "\u001b[1m188/188\u001b[0m \u001b[32m━━━━━━━━━━━━━━━━━━━━\u001b[0m\u001b[37m\u001b[0m \u001b[1m17s\u001b[0m 92ms/step - accuracy: 0.9528 - loss: 0.1536 - val_accuracy: 0.7702 - val_loss: 0.6406\n",
      "Epoch 5/10\n",
      "\u001b[1m188/188\u001b[0m \u001b[32m━━━━━━━━━━━━━━━━━━━━\u001b[0m\u001b[37m\u001b[0m \u001b[1m17s\u001b[0m 92ms/step - accuracy: 0.9705 - loss: 0.1055 - val_accuracy: 0.7495 - val_loss: 0.7441\n",
      "\u001b[1m47/47\u001b[0m \u001b[32m━━━━━━━━━━━━━━━━━━━━\u001b[0m\u001b[37m\u001b[0m \u001b[1m1s\u001b[0m 21ms/step - accuracy: 0.7942 - loss: 0.4630\n",
      "VALIDATION LOSS: 0.47\n",
      "VALIDATION ACCURACY: 0.79\n"
     ]
    }
   ],
   "source": [
    "from tensorflow.keras.layers import Bidirectional\n",
    "\n",
    "bidirectional_model = Sequential()\n",
    "# add input layer\n",
    "bidirectional_model.add(Input((100,)))\n",
    "# add embedding layer with same params as before\n",
    "bidirectional_model.add(Embedding(input_dim=10000, output_dim=100))\n",
    "# add bidirectional LSTM layer\n",
    "bidirectional_model.add(Bidirectional(LSTM(64, return_sequences=True)))\n",
    "# add dropout layer\n",
    "bidirectional_model.add(Dropout(0.5))\n",
    "# add 2nd bidirectional LSTM layer\n",
    "bidirectional_model.add(Bidirectional(LSTM(32)))\n",
    "# add 2nd dropout layer\n",
    "bidirectional_model.add(Dropout(0.5))\n",
    "# add output layer\n",
    "bidirectional_model.add(Dense(1, activation='sigmoid'))\n",
    "\n",
    "# compile model and print summary\n",
    "bidirectional_model.compile(loss='binary_crossentropy', optimizer='adam', metrics=['accuracy'])\n",
    "bidirectional_model.summary()\n",
    "\n",
    "# fit and evaluate\n",
    "bidirectional_model.fit(\n",
    "    X_train_seq,\n",
    "    y_train,\n",
    "    validation_data=(X_val_seq, y_val),\n",
    "    epochs=10,\n",
    "    batch_size=32,\n",
    "    callbacks=[early_stopping]\n",
    ")\n",
    "loss, accuracy = bidirectional_model.evaluate(X_val_seq, y_val)\n",
    "print(f'VALIDATION LOSS: {loss:.2f}')\n",
    "print(f'VALIDATION ACCURACY: {accuracy:.2f}')"
   ]
  },
  {
   "cell_type": "markdown",
   "id": "c8c89431-c492-48d3-9126-01e7b295118b",
   "metadata": {},
   "source": [
    "We got roughly the same results! Let us summarize:\n",
    "\n",
    "We attempted to classify tweets according to whether or not they were related to disasters. We imported, cleaned, and visualized the provided train and test data. During the cleaning, we filled in some missing values (which we did not end up needing), removed any duplicate rows, and did some preliminary text pre-processing (made all text lowercase, removed numbers, special characters, and URLs). Since our test data does not contain target labels, we split train data into train and val sets (typical 80/20 split). We then tokenized the cleaned text and converted it to uniform length sequences. Next we created two kinds of LSTM models—simple and bidirectional, both of which yielded roughly the same (good) results. We also experimented with different learning rates, which also did not yield any significant changes. Overall, I am quite happy with results. Although, to improve the accuracy further, I believe that we ought to try other (non-LSTM) models instead!\n",
    "\n",
    "The following code allows us to submit our results to Kaggle. Our public score ended up being **0.79037**!"
   ]
  },
  {
   "cell_type": "code",
   "execution_count": 15,
   "id": "04bb7b47-ef3e-4160-ab09-c208d296a5b8",
   "metadata": {},
   "outputs": [
    {
     "name": "stdout",
     "output_type": "stream",
     "text": [
      "\u001b[1m102/102\u001b[0m \u001b[32m━━━━━━━━━━━━━━━━━━━━\u001b[0m\u001b[37m\u001b[0m \u001b[1m2s\u001b[0m 14ms/step\n"
     ]
    }
   ],
   "source": [
    "X_test_seq = tokenizer.texts_to_sequences(df_test['text_clean'])\n",
    "X_test_seq = pad_sequences(X_test_seq, maxlen=100)\n",
    "\n",
    "preds = (bidirectional_model.predict(X_test_seq) > 0.5).astype(int)\n",
    "submission = pd.DataFrame({\n",
    "    'id': df_test['id'],\n",
    "    'target': preds.flatten()\n",
    "})\n",
    "submission.to_csv('submission.csv', index=False)"
   ]
  },
  {
   "cell_type": "code",
   "execution_count": null,
   "id": "ccdcb2c3-5bc8-49c0-8bae-b6fad1ae6052",
   "metadata": {},
   "outputs": [],
   "source": []
  }
 ],
 "metadata": {
  "kernelspec": {
   "display_name": "Python 3 (ipykernel)",
   "language": "python",
   "name": "python3"
  },
  "language_info": {
   "codemirror_mode": {
    "name": "ipython",
    "version": 3
   },
   "file_extension": ".py",
   "mimetype": "text/x-python",
   "name": "python",
   "nbconvert_exporter": "python",
   "pygments_lexer": "ipython3",
   "version": "3.12.7"
  }
 },
 "nbformat": 4,
 "nbformat_minor": 5
}
